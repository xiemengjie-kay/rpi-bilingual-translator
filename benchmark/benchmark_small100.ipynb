{
 "cells": [
  {
   "cell_type": "code",
   "execution_count": null,
   "id": "c9a66489",
   "metadata": {},
   "outputs": [],
   "source": [
    "import sacrebleu\n",
    "from datasets import load_dataset\n",
    "from tqdm import tqdm\n",
    "\n",
    "from text_to_text_small100 import Translator_text"
   ]
  },
  {
   "cell_type": "code",
   "execution_count": 3,
   "id": "c8658040",
   "metadata": {},
   "outputs": [],
   "source": [
    "dataset = load_dataset(\"opus100\", \"en-zh\")  # 1M+ sentence pairs"
   ]
  },
  {
   "cell_type": "code",
   "execution_count": 4,
   "id": "954e7349",
   "metadata": {},
   "outputs": [
    {
     "name": "stderr",
     "output_type": "stream",
     "text": [
      "The tokenizer class you load from this checkpoint is not the same type as the class this function is called from. It may result in unexpected tokenization. \n",
      "The tokenizer class you load from this checkpoint is 'M2M100Tokenizer'. \n",
      "The class this function is called from is 'SMALL100Tokenizer'.\n"
     ]
    }
   ],
   "source": [
    "translate_text = Translator_text()\n",
    "# start_time = time.time()\n",
    "# print(translate_text(english_text, \"en\", \"zh\"))\n",
    "# end_time = time.time()\n",
    "# print(f\"\"\"Inference time: {end_time-start_time:.2f}s\"\"\")"
   ]
  },
  {
   "cell_type": "code",
   "execution_count": 5,
   "id": "1e62491c",
   "metadata": {},
   "outputs": [],
   "source": [
    "def prepare_batch(batch):\n",
    "    src_texts = batch['translation']['en']\n",
    "    tgt_texts = batch['translation']['zh']\n",
    "    preds = translate_text(src_texts, source_language=\"en\", target_language=\"zh\")\n",
    "    return preds, tgt_texts"
   ]
  },
  {
   "cell_type": "code",
   "execution_count": 6,
   "id": "e6cd81ec",
   "metadata": {},
   "outputs": [],
   "source": [
    "predictions = []\n",
    "references = []"
   ]
  },
  {
   "cell_type": "code",
   "execution_count": null,
   "id": "3edf8a6e",
   "metadata": {},
   "outputs": [
    {
     "name": "stderr",
     "output_type": "stream",
     "text": [
      "100%|██████████| 10/10 [05:49<00:00, 34.95s/it]\n"
     ]
    }
   ],
   "source": [
    "for sample in tqdm(dataset[\"test\"], desc=\"Translating\"):\n",
    "    pred, ref = prepare_batch(sample)\n",
    "    # print(pred)\n",
    "    # print(type(pred))\n",
    "    # print(ref)\n",
    "    # print(type(ref))\n",
    "    predictions.append(pred)\n",
    "    references.append(ref)  # Each reference must be a list of one or more refs"
   ]
  },
  {
   "cell_type": "code",
   "execution_count": 9,
   "id": "4fd9a91d",
   "metadata": {},
   "outputs": [
    {
     "name": "stdout",
     "output_type": "stream",
     "text": [
      "\n",
      "📈 BLEU Score: 0.72861\n"
     ]
    }
   ],
   "source": [
    "bleu = sacrebleu.corpus_bleu(predictions, [references])\n",
    "print(f\"\\n📈 BLEU Score: {bleu.score:.5f}\")"
   ]
  },
  {
   "cell_type": "code",
   "execution_count": 10,
   "id": "677b9cf1",
   "metadata": {},
   "outputs": [
    {
     "name": "stdout",
     "output_type": "stream",
     "text": [
      "\n",
      "Example 1:\n",
      "English Input: The Global Programme of Action Coordination Office, with the financial support of Belgium, is currently assisting Egypt, Nigeria, United Republic of Tanzania, Sri Lanka and Yemen to develop pilot national programmes of action for the protection of the marine environment from land-based activities.\n",
      "Reference Chinese: 9. 《全球行动纲领》协调处得到比利时的财政支持，目前正帮助埃及、尼日利亚、坦桑尼亚联合共和国、斯里兰卡和也门制订试行的保护海洋环境免受陆地活动影响的国家行动方案。\n",
      "Model Prediction: 与比利时的财务支持,全球行动协调局正在帮助埃及、尼日利亚、坦桑尼亚、斯里兰卡和也门开发国家试点行动计划,以保护海洋环境免受陆地活动。\n",
      "\n",
      "Example 2:\n",
      "English Input: The forum produced business contracts amounting to more than $24 million between Asian and African private companies.\n",
      "Reference Chinese: 该论坛达成的亚洲和非洲国家私营公司间的商业合同超过了2,400万美元。\n",
      "Model Prediction: 该论坛在亚洲和非洲私营公司之间生产了超过2400万美元的商业合同。\n",
      "\n",
      "Example 3:\n",
      "English Input: But, during the 1990’s, and for reasons that are still notfully understood, the virus exploded into the general population.The number of infected South Africans (equivalent to the populationof Denmark) outstrips that of neighboring Mozambique, Lesotho,Botswana, Namibia, Swaziland, and Zimbabwe combined.\n",
      "Reference Chinese: 艾滋病来势汹汹及其传染速度让很多南非人意想不到。像发达国家一样，艾滋病毒感染最初集中在血友病患者、性活跃同性恋者以及静脉注射吸毒人员中。但20世纪90年代某种未知原因导致公众病毒感染率暴增。被病毒感染的南非民众数量（相当于丹麦全国人口）超过了相邻莫桑比克、莱索托、博茨瓦纳、纳米比亚、斯威士兰和津巴布韦的总和。\n",
      "Model Prediction: 但是,在1990年代,由于仍然很明显的原因,该病毒爆发到一般人口中。感染的南非人(相当于丹麦人口)的数量超过邻近莫桑比克,莱索托,波茨瓦纳,纳米比亚,斯瓦西兰和津巴布韦的数量。\n",
      "\n",
      "Example 4:\n",
      "English Input: Not since the inception of its mandate in 1968 has the Committee ever confronted such anger and misery among the Palestinian people and other Arabs in occupied territories and disrespect for their basic human rights and fundamental freedoms.\n",
      "Reference Chinese: 大概自1968年委员会开始执行其任务以来，委员会从未遇到被占领土内的巴勒斯坦人和其他阿拉伯人如此愤怒和悲惨过，以及其基本人权和基本自由如此不受尊重。\n",
      "Model Prediction: 自1968年成立以来,该委员会从未面临过巴勒斯坦人民和其他阿拉伯人在占领领土中的这种愤怒和贫困,不尊重他们基本人权和基本自由。\n",
      "\n",
      "Example 5:\n",
      "English Input: “6. Also welcomes the aspiration of the countries with economies in transition towards the further development of regional, subregional and interregional cooperation, and invites the United Nations system to enhance dialogue with and increase support to the regional and subregional cooperation organizations whose membership includes the countries with economies in transition;\n",
      "Reference Chinese: “6.　又欢迎经济转型国家渴望进一步开展区域、次区域和区域间合作，请联合国系统加强同其成员包括经济转型国家的各区域和次区域合作组织的对话，并增加对它们的支助；\n",
      "Model Prediction: 6.还欢迎有过渡经济体的国家向进一步发展区域、区域和区域间合作的愿望,并呼吁联合国制度加强与其成员国包括有过渡经济体的区域和区域合作组织的对话,并加强支持;\n"
     ]
    }
   ],
   "source": [
    "for i in range(5):\n",
    "    print(f\"\\nExample {i+1}:\")\n",
    "    print(f\"English Input: {dataset['test'][i]['translation']['en']}\")\n",
    "    print(f\"Reference Chinese: {references[i]}\")\n",
    "    print(f\"Model Prediction: {predictions[i]}\")"
   ]
  }
 ],
 "metadata": {
  "kernelspec": {
   "display_name": "cs329e",
   "language": "python",
   "name": "python3"
  },
  "language_info": {
   "codemirror_mode": {
    "name": "ipython",
    "version": 3
   },
   "file_extension": ".py",
   "mimetype": "text/x-python",
   "name": "python",
   "nbconvert_exporter": "python",
   "pygments_lexer": "ipython3",
   "version": "3.10.16"
  }
 },
 "nbformat": 4,
 "nbformat_minor": 5
}
