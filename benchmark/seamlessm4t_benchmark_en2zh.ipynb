{
 "cells": [
  {
   "cell_type": "code",
   "execution_count": 1,
   "id": "09f8784a",
   "metadata": {},
   "outputs": [
    {
     "name": "stderr",
     "output_type": "stream",
     "text": [
      "/home/kayleexie/miniconda3/envs/cs329e/lib/python3.10/site-packages/tqdm/auto.py:21: TqdmWarning: IProgress not found. Please update jupyter and ipywidgets. See https://ipywidgets.readthedocs.io/en/stable/user_install.html\n",
      "  from .autonotebook import tqdm as notebook_tqdm\n",
      "/home/kayleexie/miniconda3/envs/cs329e/lib/python3.10/site-packages/transformers/deepspeed.py:23: FutureWarning: transformers.deepspeed module is deprecated and will be removed in a future version. Please import deepspeed modules directly from transformers.integrations\n",
      "  warnings.warn(\n"
     ]
    }
   ],
   "source": [
    "from datasets import load_dataset\n",
    "from transformers import AutoProcessor, SeamlessM4TModel\n",
    "import torch, time, numpy as np\n",
    "import evaluate\n",
    "from tqdm import tqdm"
   ]
  },
  {
   "cell_type": "code",
   "execution_count": null,
   "id": "deccf872",
   "metadata": {},
   "outputs": [
    {
     "name": "stderr",
     "output_type": "stream",
     "text": [
      "Special tokens have been added in the vocabulary, make sure the associated word embeddings are fine-tuned or trained.\n",
      "Special tokens have been added in the vocabulary, make sure the associated word embeddings are fine-tuned or trained.\n"
     ]
    },
    {
     "ename": "",
     "evalue": "",
     "output_type": "error",
     "traceback": [
      "\u001b[1;31mThe Kernel crashed while executing code in the current cell or a previous cell. \n",
      "\u001b[1;31mPlease review the code in the cell(s) to identify a possible cause of the failure. \n",
      "\u001b[1;31mClick <a href='https://aka.ms/vscodeJupyterKernelCrash'>here</a> for more info. \n",
      "\u001b[1;31mView Jupyter <a href='command:jupyter.viewOutput'>log</a> for further details."
     ]
    }
   ],
   "source": [
    "device = 'cpu'\n",
    "# Load model and processor\n",
    "model = SeamlessM4TModel.from_pretrained(\"facebook/hf-seamless-m4t-medium\").to(device)\n",
    "processor = AutoProcessor.from_pretrained(\"facebook/hf-seamless-m4t-medium\")"
   ]
  },
  {
   "cell_type": "code",
   "execution_count": null,
   "id": "a1992609",
   "metadata": {},
   "outputs": [
    {
     "name": "stderr",
     "output_type": "stream",
     "text": [
      "Generating train split: 997 examples [00:09, 123.49 examples/s]"
     ]
    }
   ],
   "source": [
    "# Load a small split of the CVSS English-Chinese test set\n",
    "dataset = load_dataset(\"google/fleurs\", \"cmn_hans_cn\", split=\"test[:1]\")  # Chinese test samples"
   ]
  },
  {
   "cell_type": "code",
   "execution_count": null,
   "id": "99524462",
   "metadata": {},
   "outputs": [],
   "source": [
    "# Optional: Load BLEU scorer for intermediate text accuracy\n",
    "bleu = evaluate.load(\"bleu\")"
   ]
  },
  {
   "cell_type": "code",
   "execution_count": null,
   "id": "d0618651",
   "metadata": {},
   "outputs": [],
   "source": [
    "results = []\n",
    "\n",
    "for sample in tqdm(dataset):\n",
    "    audio = sample['audio']['array']\n",
    "    sr = sample['audio']['sampling_rate']\n",
    "    reference_text = sample['translation']['zh']\n",
    "\n",
    "    inputs = processor(audios=audio, sampling_rate=sr, return_tensors=\"pt\")\n",
    "    inputs = {k: v.to(device) for k, v in inputs.items()}\n",
    "\n",
    "    # Run inference\n",
    "    start = time.time()\n",
    "    outputs = model.generate(**inputs, tgt_lang=\"cmn\")\n",
    "    end = time.time()\n",
    "\n",
    "    predicted_audio = outputs[0].cpu().numpy().squeeze()\n",
    "    input_dur = len(audio) / sr\n",
    "    output_dur = len(predicted_audio) / 16000\n",
    "    latency = end - start\n",
    "\n",
    "    results.append({\n",
    "        \"input_duration\": input_dur,\n",
    "        \"output_duration\": output_dur,\n",
    "        \"latency\": latency,\n",
    "        \"RTF\": latency / input_dur,\n",
    "    })"
   ]
  },
  {
   "cell_type": "code",
   "execution_count": null,
   "id": "d5d41dfe",
   "metadata": {},
   "outputs": [],
   "source": [
    "# Display results\n",
    "import pandas as pd\n",
    "df = pd.DataFrame(results)\n",
    "df.describe()"
   ]
  }
 ],
 "metadata": {
  "kernelspec": {
   "display_name": "cs329e",
   "language": "python",
   "name": "python3"
  },
  "language_info": {
   "codemirror_mode": {
    "name": "ipython",
    "version": 3
   },
   "file_extension": ".py",
   "mimetype": "text/x-python",
   "name": "python",
   "nbconvert_exporter": "python",
   "pygments_lexer": "ipython3",
   "version": "3.10.9"
  }
 },
 "nbformat": 4,
 "nbformat_minor": 5
}
