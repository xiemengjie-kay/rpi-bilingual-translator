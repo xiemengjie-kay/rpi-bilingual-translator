{
 "cells": [
  {
   "cell_type": "code",
   "execution_count": 2,
   "id": "2b219c83",
   "metadata": {},
   "outputs": [],
   "source": [
    "### Benchmark f_whisper Model for English-Chinese Speech-to-Text Translation using BLEU"
   ]
  },
  {
   "cell_type": "code",
   "execution_count": 24,
   "id": "f51df0c1",
   "metadata": {},
   "outputs": [],
   "source": [
    "import torch\n",
    "import torchaudio\n",
    "import librosa\n",
    "import sacrebleu\n",
    "import numpy as np\n",
    "from faster_whisper import WhisperModel\n",
    "from datasets import load_dataset\n",
    "from tqdm import tqdm"
   ]
  },
  {
   "cell_type": "code",
   "execution_count": 4,
   "id": "00879d23",
   "metadata": {},
   "outputs": [],
   "source": [
    "silence_timeout = 1.2"
   ]
  },
  {
   "cell_type": "code",
   "execution_count": 5,
   "id": "9851c842",
   "metadata": {},
   "outputs": [],
   "source": [
    "dataset = load_dataset(\"mozilla-foundation/common_voice_11_0\", \"en\", split=\"test\")"
   ]
  },
  {
   "cell_type": "code",
   "execution_count": 6,
   "id": "965036b6",
   "metadata": {},
   "outputs": [],
   "source": [
    "model_size=\"tiny\"\n",
    "model = WhisperModel(model_size, device=\"cpu\", compute_type=\"int8\")"
   ]
  },
  {
   "cell_type": "code",
   "execution_count": 27,
   "id": "8b33c117",
   "metadata": {},
   "outputs": [],
   "source": [
    "predictions = []\n",
    "references = []"
   ]
  },
  {
   "cell_type": "code",
   "execution_count": 8,
   "id": "4b6d5d6e",
   "metadata": {},
   "outputs": [],
   "source": [
    "def prepare_audio(batch):\n",
    "    speech_array, sampling_rate = torchaudio.load(batch[\"path\"])\n",
    "    if sampling_rate != 16000:\n",
    "        resampler = torchaudio.transforms.Resample(sampling_rate, 16000)\n",
    "        speech_array = resampler(speech_array)\n",
    "    batch[\"speech\"] = speech_array.squeeze(0)\n",
    "    return batch"
   ]
  },
  {
   "cell_type": "code",
   "execution_count": 9,
   "id": "ed3f7a16",
   "metadata": {},
   "outputs": [],
   "source": [
    "if \"path\" in dataset.column_names:\n",
    "    dataset = dataset.map(prepare_audio)"
   ]
  },
  {
   "cell_type": "code",
   "execution_count": 28,
   "id": "c348378e",
   "metadata": {},
   "outputs": [
    {
     "name": "stderr",
     "output_type": "stream",
     "text": [
      "Transcribing:   0%|          | 1/16354 [00:01<8:52:11,  1.95s/it]"
     ]
    },
    {
     "name": "stdout",
     "output_type": "stream",
     "text": [
      "['Joel Keaton disapproved of films and buster also had reservations about the medium.']\n",
      "['Joe Keaton disapproved of films, and Buster also had reservations about the medium.']\n"
     ]
    },
    {
     "name": "stderr",
     "output_type": "stream",
     "text": [
      "Transcribing:   0%|          | 2/16354 [00:03<7:07:15,  1.57s/it]"
     ]
    },
    {
     "name": "stdout",
     "output_type": "stream",
     "text": [
      "['Joel Keaton disapproved of films and buster also had reservations about the medium.', \"She'd be alright.\"]\n",
      "['Joe Keaton disapproved of films, and Buster also had reservations about the medium.', \"She'll be all right.\"]\n"
     ]
    },
    {
     "name": "stderr",
     "output_type": "stream",
     "text": [
      "Transcribing:   0%|          | 3/16354 [00:04<6:20:21,  1.40s/it]"
     ]
    },
    {
     "name": "stdout",
     "output_type": "stream",
     "text": [
      "['Joel Keaton disapproved of films and buster also had reservations about the medium.', \"She'd be alright.\", '6.']\n",
      "['Joe Keaton disapproved of films, and Buster also had reservations about the medium.', \"She'll be all right.\", 'six']\n"
     ]
    },
    {
     "name": "stderr",
     "output_type": "stream",
     "text": [
      "Transcribing:   0%|          | 4/16354 [00:05<6:04:18,  1.34s/it]"
     ]
    },
    {
     "name": "stdout",
     "output_type": "stream",
     "text": [
      "['Joel Keaton disapproved of films and buster also had reservations about the medium.', \"She'd be alright.\", '6.', 'All as well, that ends well.']\n",
      "['Joe Keaton disapproved of films, and Buster also had reservations about the medium.', \"She'll be all right.\", 'six', \"All's well that ends well.\"]\n"
     ]
    },
    {
     "name": "stderr",
     "output_type": "stream",
     "text": [
      "Transcribing:   0%|          | 5/16354 [00:07<6:38:04,  1.46s/it]"
     ]
    },
    {
     "name": "stdout",
     "output_type": "stream",
     "text": [
      "['Joel Keaton disapproved of films and buster also had reservations about the medium.', \"She'd be alright.\", '6.', 'All as well, that ends well.', 'It is a busy market town that serves a large surrounded area.']\n",
      "['Joe Keaton disapproved of films, and Buster also had reservations about the medium.', \"She'll be all right.\", 'six', \"All's well that ends well.\", 'It is a busy market town that serves a large surrounding area.']\n"
     ]
    },
    {
     "name": "stderr",
     "output_type": "stream",
     "text": [
      "Transcribing:   0%|          | 6/16354 [00:09<7:54:09,  1.74s/it]"
     ]
    },
    {
     "name": "stdout",
     "output_type": "stream",
     "text": [
      "['Joel Keaton disapproved of films and buster also had reservations about the medium.', \"She'd be alright.\", '6.', 'All as well, that ends well.', 'It is a busy market town that serves a large surrounded area.', 'The team had all of the champion, Carol later maddened in this quads for this season.']\n",
      "['Joe Keaton disapproved of films, and Buster also had reservations about the medium.', \"She'll be all right.\", 'six', \"All's well that ends well.\", 'It is a busy market town that serves a large surrounding area.', 'The team had Olympic Champion Carolina Marin in their squad for the season.']\n"
     ]
    },
    {
     "name": "stderr",
     "output_type": "stream",
     "text": [
      "Transcribing:   0%|          | 7/16354 [00:10<7:18:30,  1.61s/it]"
     ]
    },
    {
     "name": "stdout",
     "output_type": "stream",
     "text": [
      "['Joel Keaton disapproved of films and buster also had reservations about the medium.', \"She'd be alright.\", '6.', 'All as well, that ends well.', 'It is a busy market town that serves a large surrounded area.', 'The team had all of the champion, Carol later maddened in this quads for this season.', 'Do you mean it?']\n",
      "['Joe Keaton disapproved of films, and Buster also had reservations about the medium.', \"She'll be all right.\", 'six', \"All's well that ends well.\", 'It is a busy market town that serves a large surrounding area.', 'The team had Olympic Champion Carolina Marin in their squad for the season.', 'Do you mean it?']\n"
     ]
    },
    {
     "name": "stderr",
     "output_type": "stream",
     "text": [
      "Transcribing:   0%|          | 8/16354 [00:12<7:19:40,  1.61s/it]"
     ]
    },
    {
     "name": "stdout",
     "output_type": "stream",
     "text": [
      "['Joel Keaton disapproved of films and buster also had reservations about the medium.', \"She'd be alright.\", '6.', 'All as well, that ends well.', 'It is a busy market town that serves a large surrounded area.', 'The team had all of the champion, Carol later maddened in this quads for this season.', 'Do you mean it?', 'The new patch is less invasive than the whole one, but still causes regression.']\n",
      "['Joe Keaton disapproved of films, and Buster also had reservations about the medium.', \"She'll be all right.\", 'six', \"All's well that ends well.\", 'It is a busy market town that serves a large surrounding area.', 'The team had Olympic Champion Carolina Marin in their squad for the season.', 'Do you mean it?', 'The new patch is less invasive than the old one, but still causes regressions.']\n"
     ]
    },
    {
     "name": "stderr",
     "output_type": "stream",
     "text": [
      "Transcribing:   0%|          | 9/16354 [00:14<7:36:39,  1.68s/it]"
     ]
    },
    {
     "name": "stdout",
     "output_type": "stream",
     "text": [
      "['Joel Keaton disapproved of films and buster also had reservations about the medium.', \"She'd be alright.\", '6.', 'All as well, that ends well.', 'It is a busy market town that serves a large surrounded area.', 'The team had all of the champion, Carol later maddened in this quads for this season.', 'Do you mean it?', 'The new patch is less invasive than the whole one, but still causes regression.', 'How is most of you are going to handle and be with this? Thank you and Q.']\n",
      "['Joe Keaton disapproved of films, and Buster also had reservations about the medium.', \"She'll be all right.\", 'six', \"All's well that ends well.\", 'It is a busy market town that serves a large surrounding area.', 'The team had Olympic Champion Carolina Marin in their squad for the season.', 'Do you mean it?', 'The new patch is less invasive than the old one, but still causes regressions.', 'How is Mozilla going to handle ambiguities like queue and cue?']\n"
     ]
    },
    {
     "name": "stderr",
     "output_type": "stream",
     "text": [
      "Transcribing:   0%|          | 10/16354 [00:15<7:01:32,  1.55s/it]"
     ]
    },
    {
     "name": "stdout",
     "output_type": "stream",
     "text": [
      "['Joel Keaton disapproved of films and buster also had reservations about the medium.', \"She'd be alright.\", '6.', 'All as well, that ends well.', 'It is a busy market town that serves a large surrounded area.', 'The team had all of the champion, Carol later maddened in this quads for this season.', 'Do you mean it?', 'The new patch is less invasive than the whole one, but still causes regression.', 'How is most of you are going to handle and be with this? Thank you and Q.', 'Thank you very much.']\n",
      "['Joe Keaton disapproved of films, and Buster also had reservations about the medium.', \"She'll be all right.\", 'six', \"All's well that ends well.\", 'It is a busy market town that serves a large surrounding area.', 'The team had Olympic Champion Carolina Marin in their squad for the season.', 'Do you mean it?', 'The new patch is less invasive than the old one, but still causes regressions.', 'How is Mozilla going to handle ambiguities like queue and cue?', \"I guess you must think I'm kinda batty.\"]\n"
     ]
    },
    {
     "name": "stderr",
     "output_type": "stream",
     "text": [
      "Transcribing:   0%|          | 11/16354 [00:17<7:01:50,  1.55s/it]"
     ]
    },
    {
     "name": "stdout",
     "output_type": "stream",
     "text": [
      "['Joel Keaton disapproved of films and buster also had reservations about the medium.', \"She'd be alright.\", '6.', 'All as well, that ends well.', 'It is a busy market town that serves a large surrounded area.', 'The team had all of the champion, Carol later maddened in this quads for this season.', 'Do you mean it?', 'The new patch is less invasive than the whole one, but still causes regression.', 'How is most of you are going to handle and be with this? Thank you and Q.', 'Thank you very much.', 'No one near the remote machine you could ring.']\n",
      "['Joe Keaton disapproved of films, and Buster also had reservations about the medium.', \"She'll be all right.\", 'six', \"All's well that ends well.\", 'It is a busy market town that serves a large surrounding area.', 'The team had Olympic Champion Carolina Marin in their squad for the season.', 'Do you mean it?', 'The new patch is less invasive than the old one, but still causes regressions.', 'How is Mozilla going to handle ambiguities like queue and cue?', \"I guess you must think I'm kinda batty.\", 'No one near the remote machine you could ring?']\n"
     ]
    },
    {
     "name": "stderr",
     "output_type": "stream",
     "text": [
      "Transcribing:   0%|          | 12/16354 [00:18<7:13:04,  1.59s/it]"
     ]
    },
    {
     "name": "stdout",
     "output_type": "stream",
     "text": [
      "['Joel Keaton disapproved of films and buster also had reservations about the medium.', \"She'd be alright.\", '6.', 'All as well, that ends well.', 'It is a busy market town that serves a large surrounded area.', 'The team had all of the champion, Carol later maddened in this quads for this season.', 'Do you mean it?', 'The new patch is less invasive than the whole one, but still causes regression.', 'How is most of you are going to handle and be with this? Thank you and Q.', 'Thank you very much.', 'No one near the remote machine you could ring.', 'Sauce for the goose is sauce for the gonder.']\n",
      "['Joe Keaton disapproved of films, and Buster also had reservations about the medium.', \"She'll be all right.\", 'six', \"All's well that ends well.\", 'It is a busy market town that serves a large surrounding area.', 'The team had Olympic Champion Carolina Marin in their squad for the season.', 'Do you mean it?', 'The new patch is less invasive than the old one, but still causes regressions.', 'How is Mozilla going to handle ambiguities like queue and cue?', \"I guess you must think I'm kinda batty.\", 'No one near the remote machine you could ring?', 'Sauce for the goose is sauce for the gander.']\n"
     ]
    },
    {
     "name": "stderr",
     "output_type": "stream",
     "text": [
      "Transcribing:   0%|          | 13/16354 [00:20<7:29:58,  1.65s/it]"
     ]
    },
    {
     "name": "stdout",
     "output_type": "stream",
     "text": [
      "['Joel Keaton disapproved of films and buster also had reservations about the medium.', \"She'd be alright.\", '6.', 'All as well, that ends well.', 'It is a busy market town that serves a large surrounded area.', 'The team had all of the champion, Carol later maddened in this quads for this season.', 'Do you mean it?', 'The new patch is less invasive than the whole one, but still causes regression.', 'How is most of you are going to handle and be with this? Thank you and Q.', 'Thank you very much.', 'No one near the remote machine you could ring.', 'Sauce for the goose is sauce for the gonder.', 'Graphs is thought of writing songs when she was four years old.']\n",
      "['Joe Keaton disapproved of films, and Buster also had reservations about the medium.', \"She'll be all right.\", 'six', \"All's well that ends well.\", 'It is a busy market town that serves a large surrounding area.', 'The team had Olympic Champion Carolina Marin in their squad for the season.', 'Do you mean it?', 'The new patch is less invasive than the old one, but still causes regressions.', 'How is Mozilla going to handle ambiguities like queue and cue?', \"I guess you must think I'm kinda batty.\", 'No one near the remote machine you could ring?', 'Sauce for the goose is sauce for the gander.', 'Groves started writing songs when she was four years old.']\n"
     ]
    },
    {
     "name": "stderr",
     "output_type": "stream",
     "text": [
      "Transcribing:   0%|          | 14/16354 [00:22<7:49:17,  1.72s/it]"
     ]
    },
    {
     "name": "stdout",
     "output_type": "stream",
     "text": [
      "['Joel Keaton disapproved of films and buster also had reservations about the medium.', \"She'd be alright.\", '6.', 'All as well, that ends well.', 'It is a busy market town that serves a large surrounded area.', 'The team had all of the champion, Carol later maddened in this quads for this season.', 'Do you mean it?', 'The new patch is less invasive than the whole one, but still causes regression.', 'How is most of you are going to handle and be with this? Thank you and Q.', 'Thank you very much.', 'No one near the remote machine you could ring.', 'Sauce for the goose is sauce for the gonder.', 'Graphs is thought of writing songs when she was four years old.', \"Isn't Kirk Mike Schula was the former H coach at Alabama?\"]\n",
      "['Joe Keaton disapproved of films, and Buster also had reservations about the medium.', \"She'll be all right.\", 'six', \"All's well that ends well.\", 'It is a busy market town that serves a large surrounding area.', 'The team had Olympic Champion Carolina Marin in their squad for the season.', 'Do you mean it?', 'The new patch is less invasive than the old one, but still causes regressions.', 'How is Mozilla going to handle ambiguities like queue and cue?', \"I guess you must think I'm kinda batty.\", 'No one near the remote machine you could ring?', 'Sauce for the goose is sauce for the gander.', 'Groves started writing songs when she was four years old.', 'His uncle Mike Shula was the former head coach at Alabama.']\n"
     ]
    },
    {
     "name": "stderr",
     "output_type": "stream",
     "text": [
      "Transcribing:   0%|          | 14/16354 [00:23<7:42:32,  1.70s/it]\n"
     ]
    },
    {
     "ename": "KeyboardInterrupt",
     "evalue": "",
     "output_type": "error",
     "traceback": [
      "\u001b[0;31m---------------------------------------------------------------------------\u001b[0m",
      "\u001b[0;31mKeyboardInterrupt\u001b[0m                         Traceback (most recent call last)",
      "Cell \u001b[0;32mIn[28], line 15\u001b[0m\n\u001b[1;32m      6\u001b[0m waveform \u001b[38;5;241m=\u001b[39m np\u001b[38;5;241m.\u001b[39masarray(sample[\u001b[38;5;124m\"\u001b[39m\u001b[38;5;124mspeech\u001b[39m\u001b[38;5;124m\"\u001b[39m])\n\u001b[1;32m      7\u001b[0m segments, info \u001b[38;5;241m=\u001b[39m model\u001b[38;5;241m.\u001b[39mtranscribe(waveform, \n\u001b[1;32m      8\u001b[0m                                   language\u001b[38;5;241m=\u001b[39m\u001b[38;5;124m\"\u001b[39m\u001b[38;5;124men\u001b[39m\u001b[38;5;124m\"\u001b[39m, \n\u001b[1;32m      9\u001b[0m                                   beam_size\u001b[38;5;241m=\u001b[39m\u001b[38;5;241m3\u001b[39m, \n\u001b[0;32m   (...)\u001b[0m\n\u001b[1;32m     13\u001b[0m                                                   }\n\u001b[1;32m     14\u001b[0m )\n\u001b[0;32m---> 15\u001b[0m transcription \u001b[38;5;241m=\u001b[39m \u001b[38;5;124m\"\u001b[39m\u001b[38;5;124m\"\u001b[39m\u001b[38;5;241m.\u001b[39mjoin([segment\u001b[38;5;241m.\u001b[39mtext \u001b[38;5;28;01mfor\u001b[39;00m segment \u001b[38;5;129;01min\u001b[39;00m segments])\u001b[38;5;241m.\u001b[39mstrip()\n\u001b[1;32m     17\u001b[0m predictions\u001b[38;5;241m.\u001b[39mappend(transcription)\n\u001b[1;32m     18\u001b[0m references\u001b[38;5;241m.\u001b[39mappend(sample\u001b[38;5;241m.\u001b[39mget(\u001b[38;5;124m\"\u001b[39m\u001b[38;5;124msentence\u001b[39m\u001b[38;5;124m\"\u001b[39m, \u001b[38;5;124m\"\u001b[39m\u001b[38;5;124m\"\u001b[39m))\n",
      "Cell \u001b[0;32mIn[28], line 15\u001b[0m, in \u001b[0;36m<listcomp>\u001b[0;34m(.0)\u001b[0m\n\u001b[1;32m      6\u001b[0m waveform \u001b[38;5;241m=\u001b[39m np\u001b[38;5;241m.\u001b[39masarray(sample[\u001b[38;5;124m\"\u001b[39m\u001b[38;5;124mspeech\u001b[39m\u001b[38;5;124m\"\u001b[39m])\n\u001b[1;32m      7\u001b[0m segments, info \u001b[38;5;241m=\u001b[39m model\u001b[38;5;241m.\u001b[39mtranscribe(waveform, \n\u001b[1;32m      8\u001b[0m                                   language\u001b[38;5;241m=\u001b[39m\u001b[38;5;124m\"\u001b[39m\u001b[38;5;124men\u001b[39m\u001b[38;5;124m\"\u001b[39m, \n\u001b[1;32m      9\u001b[0m                                   beam_size\u001b[38;5;241m=\u001b[39m\u001b[38;5;241m3\u001b[39m, \n\u001b[0;32m   (...)\u001b[0m\n\u001b[1;32m     13\u001b[0m                                                   }\n\u001b[1;32m     14\u001b[0m )\n\u001b[0;32m---> 15\u001b[0m transcription \u001b[38;5;241m=\u001b[39m \u001b[38;5;124m\"\u001b[39m\u001b[38;5;124m\"\u001b[39m\u001b[38;5;241m.\u001b[39mjoin([segment\u001b[38;5;241m.\u001b[39mtext \u001b[38;5;28;01mfor\u001b[39;00m segment \u001b[38;5;129;01min\u001b[39;00m segments])\u001b[38;5;241m.\u001b[39mstrip()\n\u001b[1;32m     17\u001b[0m predictions\u001b[38;5;241m.\u001b[39mappend(transcription)\n\u001b[1;32m     18\u001b[0m references\u001b[38;5;241m.\u001b[39mappend(sample\u001b[38;5;241m.\u001b[39mget(\u001b[38;5;124m\"\u001b[39m\u001b[38;5;124msentence\u001b[39m\u001b[38;5;124m\"\u001b[39m, \u001b[38;5;124m\"\u001b[39m\u001b[38;5;124m\"\u001b[39m))\n",
      "File \u001b[0;32m~/miniconda3/envs/cs329e/lib/python3.10/site-packages/faster_whisper/transcribe.py:1148\u001b[0m, in \u001b[0;36mWhisperModel.generate_segments\u001b[0;34m(self, features, tokenizer, options, log_progress, encoder_output)\u001b[0m\n\u001b[1;32m   1145\u001b[0m previous_tokens \u001b[38;5;241m=\u001b[39m all_tokens[prompt_reset_since:]\n\u001b[1;32m   1147\u001b[0m \u001b[38;5;28;01mif\u001b[39;00m seek \u001b[38;5;241m>\u001b[39m \u001b[38;5;241m0\u001b[39m \u001b[38;5;129;01mor\u001b[39;00m encoder_output \u001b[38;5;129;01mis\u001b[39;00m \u001b[38;5;28;01mNone\u001b[39;00m:\n\u001b[0;32m-> 1148\u001b[0m     encoder_output \u001b[38;5;241m=\u001b[39m \u001b[38;5;28;43mself\u001b[39;49m\u001b[38;5;241;43m.\u001b[39;49m\u001b[43mencode\u001b[49m\u001b[43m(\u001b[49m\u001b[43msegment\u001b[49m\u001b[43m)\u001b[49m\n\u001b[1;32m   1150\u001b[0m \u001b[38;5;28;01mif\u001b[39;00m options\u001b[38;5;241m.\u001b[39mmultilingual:\n\u001b[1;32m   1151\u001b[0m     results \u001b[38;5;241m=\u001b[39m \u001b[38;5;28mself\u001b[39m\u001b[38;5;241m.\u001b[39mmodel\u001b[38;5;241m.\u001b[39mdetect_language(encoder_output)\n",
      "File \u001b[0;32m~/miniconda3/envs/cs329e/lib/python3.10/site-packages/faster_whisper/transcribe.py:1358\u001b[0m, in \u001b[0;36mWhisperModel.encode\u001b[0;34m(self, features)\u001b[0m\n\u001b[1;32m   1355\u001b[0m     features \u001b[38;5;241m=\u001b[39m np\u001b[38;5;241m.\u001b[39mexpand_dims(features, \u001b[38;5;241m0\u001b[39m)\n\u001b[1;32m   1356\u001b[0m features \u001b[38;5;241m=\u001b[39m get_ctranslate2_storage(features)\n\u001b[0;32m-> 1358\u001b[0m \u001b[38;5;28;01mreturn\u001b[39;00m \u001b[38;5;28;43mself\u001b[39;49m\u001b[38;5;241;43m.\u001b[39;49m\u001b[43mmodel\u001b[49m\u001b[38;5;241;43m.\u001b[39;49m\u001b[43mencode\u001b[49m\u001b[43m(\u001b[49m\u001b[43mfeatures\u001b[49m\u001b[43m,\u001b[49m\u001b[43m \u001b[49m\u001b[43mto_cpu\u001b[49m\u001b[38;5;241;43m=\u001b[39;49m\u001b[43mto_cpu\u001b[49m\u001b[43m)\u001b[49m\n",
      "\u001b[0;31mKeyboardInterrupt\u001b[0m: "
     ]
    }
   ],
   "source": [
    "for i in tqdm(range(len(dataset)), desc=\"Transcribing\"):\n",
    "    sample = dataset[i]\n",
    "    # print(sample.keys())\n",
    "    # print(np.asarray(sample[\"speech\"]))\n",
    "    if \"speech\" in sample:\n",
    "        waveform = np.asarray(sample[\"speech\"])\n",
    "        segments, info = model.transcribe(waveform, \n",
    "                                          language=\"en\", \n",
    "                                          beam_size=3, \n",
    "                                          vad_parameters={\"threshold\": 0.5,                          # VAD sensitivity\n",
    "                                                          \"min_silence_duration_ms\": silence_timeout * 1000,\n",
    "                                                          \"min_speech_duration_ms\": 250,            # Filter short bursts\n",
    "                                                          }\n",
    "        )\n",
    "        transcription = \"\".join([segment.text for segment in segments]).strip()\n",
    "    \n",
    "        predictions.append(transcription)\n",
    "        references.append(sample.get(\"sentence\", \"\"))\n",
    "        # print(predictions)\n",
    "        # print(references)"
   ]
  },
  {
   "cell_type": "code",
   "execution_count": 14,
   "id": "66e41ebd",
   "metadata": {},
   "outputs": [
    {
     "name": "stdout",
     "output_type": "stream",
     "text": [
      "[]\n"
     ]
    }
   ],
   "source": [
    "print(predictions)"
   ]
  },
  {
   "cell_type": "code",
   "execution_count": 12,
   "id": "1f92791e",
   "metadata": {},
   "outputs": [
    {
     "ename": "IndexError",
     "evalue": "list index out of range",
     "output_type": "error",
     "traceback": [
      "\u001b[0;31m---------------------------------------------------------------------------\u001b[0m",
      "\u001b[0;31mIndexError\u001b[0m                                Traceback (most recent call last)",
      "Cell \u001b[0;32mIn[12], line 1\u001b[0m\n\u001b[0;32m----> 1\u001b[0m bleu \u001b[38;5;241m=\u001b[39m \u001b[43msacrebleu\u001b[49m\u001b[38;5;241;43m.\u001b[39;49m\u001b[43mcorpus_bleu\u001b[49m\u001b[43m(\u001b[49m\u001b[43mpredictions\u001b[49m\u001b[43m,\u001b[49m\u001b[43m \u001b[49m\u001b[43m[\u001b[49m\u001b[43mreferences\u001b[49m\u001b[43m]\u001b[49m\u001b[43m)\u001b[49m\n\u001b[1;32m      2\u001b[0m \u001b[38;5;28mprint\u001b[39m(\u001b[38;5;124mf\u001b[39m\u001b[38;5;124m\"\u001b[39m\u001b[38;5;130;01m\\n\u001b[39;00m\u001b[38;5;130;01m\\ud83d\u001b[39;00m\u001b[38;5;130;01m\\udcc8\u001b[39;00m\u001b[38;5;124m BLEU Score: \u001b[39m\u001b[38;5;132;01m{\u001b[39;00mbleu\u001b[38;5;241m.\u001b[39mscore\u001b[38;5;132;01m:\u001b[39;00m\u001b[38;5;124m.5f\u001b[39m\u001b[38;5;132;01m}\u001b[39;00m\u001b[38;5;124m\"\u001b[39m)\n",
      "File \u001b[0;32m~/miniconda3/envs/cs329e/lib/python3.10/site-packages/sacrebleu/compat.py:37\u001b[0m, in \u001b[0;36mcorpus_bleu\u001b[0;34m(hypotheses, references, smooth_method, smooth_value, force, lowercase, tokenize, use_effective_order)\u001b[0m\n\u001b[1;32m     17\u001b[0m \u001b[38;5;250m\u001b[39m\u001b[38;5;124;03m\"\"\"Computes BLEU for a corpus against a single (or multiple) reference(s).\u001b[39;00m\n\u001b[1;32m     18\u001b[0m \u001b[38;5;124;03mThis is the main CLI entry point for computing BLEU between a system output\u001b[39;00m\n\u001b[1;32m     19\u001b[0m \u001b[38;5;124;03mand a reference sentence.\u001b[39;00m\n\u001b[0;32m   (...)\u001b[0m\n\u001b[1;32m     30\u001b[0m \u001b[38;5;124;03m:return: a `BLEUScore` object\u001b[39;00m\n\u001b[1;32m     31\u001b[0m \u001b[38;5;124;03m\"\"\"\u001b[39;00m\n\u001b[1;32m     32\u001b[0m metric \u001b[38;5;241m=\u001b[39m BLEU(\n\u001b[1;32m     33\u001b[0m     lowercase\u001b[38;5;241m=\u001b[39mlowercase, force\u001b[38;5;241m=\u001b[39mforce, tokenize\u001b[38;5;241m=\u001b[39mtokenize,\n\u001b[1;32m     34\u001b[0m     smooth_method\u001b[38;5;241m=\u001b[39msmooth_method, smooth_value\u001b[38;5;241m=\u001b[39msmooth_value,\n\u001b[1;32m     35\u001b[0m     effective_order\u001b[38;5;241m=\u001b[39muse_effective_order)\n\u001b[0;32m---> 37\u001b[0m \u001b[38;5;28;01mreturn\u001b[39;00m \u001b[43mmetric\u001b[49m\u001b[38;5;241;43m.\u001b[39;49m\u001b[43mcorpus_score\u001b[49m\u001b[43m(\u001b[49m\u001b[43mhypotheses\u001b[49m\u001b[43m,\u001b[49m\u001b[43m \u001b[49m\u001b[43mreferences\u001b[49m\u001b[43m)\u001b[49m\n",
      "File \u001b[0;32m~/miniconda3/envs/cs329e/lib/python3.10/site-packages/sacrebleu/metrics/base.py:434\u001b[0m, in \u001b[0;36mMetric.corpus_score\u001b[0;34m(self, hypotheses, references, n_bootstrap)\u001b[0m\n\u001b[1;32m    418\u001b[0m \u001b[38;5;28;01mdef\u001b[39;00m\u001b[38;5;250m \u001b[39m\u001b[38;5;21mcorpus_score\u001b[39m(\n\u001b[1;32m    419\u001b[0m     \u001b[38;5;28mself\u001b[39m,\n\u001b[1;32m    420\u001b[0m     hypotheses: Sequence[\u001b[38;5;28mstr\u001b[39m],\n\u001b[1;32m    421\u001b[0m     references: Optional[Sequence[Sequence[\u001b[38;5;28mstr\u001b[39m]]],\n\u001b[1;32m    422\u001b[0m     n_bootstrap: \u001b[38;5;28mint\u001b[39m \u001b[38;5;241m=\u001b[39m \u001b[38;5;241m1\u001b[39m,\n\u001b[1;32m    423\u001b[0m ) \u001b[38;5;241m-\u001b[39m\u001b[38;5;241m>\u001b[39m Any:\n\u001b[1;32m    424\u001b[0m \u001b[38;5;250m    \u001b[39m\u001b[38;5;124;03m\"\"\"Compute the metric for a corpus against a single (or multiple) reference(s).\u001b[39;00m\n\u001b[1;32m    425\u001b[0m \n\u001b[1;32m    426\u001b[0m \u001b[38;5;124;03m    :param hypotheses: A sequence of hypothesis strings.\u001b[39;00m\n\u001b[0;32m   (...)\u001b[0m\n\u001b[1;32m    432\u001b[0m \u001b[38;5;124;03m    :return: A `Score` object.\u001b[39;00m\n\u001b[1;32m    433\u001b[0m \u001b[38;5;124;03m    \"\"\"\u001b[39;00m\n\u001b[0;32m--> 434\u001b[0m     \u001b[38;5;28;43mself\u001b[39;49m\u001b[38;5;241;43m.\u001b[39;49m\u001b[43m_check_corpus_score_args\u001b[49m\u001b[43m(\u001b[49m\u001b[43mhypotheses\u001b[49m\u001b[43m,\u001b[49m\u001b[43m \u001b[49m\u001b[43mreferences\u001b[49m\u001b[43m)\u001b[49m\n\u001b[1;32m    436\u001b[0m     \u001b[38;5;66;03m# Collect corpus stats\u001b[39;00m\n\u001b[1;32m    437\u001b[0m     stats \u001b[38;5;241m=\u001b[39m \u001b[38;5;28mself\u001b[39m\u001b[38;5;241m.\u001b[39m_extract_corpus_statistics(hypotheses, references)\n",
      "File \u001b[0;32m~/miniconda3/envs/cs329e/lib/python3.10/site-packages/sacrebleu/metrics/base.py:253\u001b[0m, in \u001b[0;36mMetric._check_corpus_score_args\u001b[0;34m(self, hyps, refs)\u001b[0m\n\u001b[1;32m    251\u001b[0m \u001b[38;5;28;01mif\u001b[39;00m \u001b[38;5;129;01mnot\u001b[39;00m \u001b[38;5;28misinstance\u001b[39m(hyps, Sequence):\n\u001b[1;32m    252\u001b[0m     err_msg \u001b[38;5;241m=\u001b[39m \u001b[38;5;124m\"\u001b[39m\u001b[38;5;124m`hyps` should be a sequence of strings.\u001b[39m\u001b[38;5;124m\"\u001b[39m\n\u001b[0;32m--> 253\u001b[0m \u001b[38;5;28;01melif\u001b[39;00m \u001b[38;5;129;01mnot\u001b[39;00m \u001b[38;5;28misinstance\u001b[39m(\u001b[43mhyps\u001b[49m\u001b[43m[\u001b[49m\u001b[38;5;241;43m0\u001b[39;49m\u001b[43m]\u001b[49m, \u001b[38;5;28mstr\u001b[39m):\n\u001b[1;32m    254\u001b[0m     err_msg \u001b[38;5;241m=\u001b[39m \u001b[38;5;124m\"\u001b[39m\u001b[38;5;124mEach element of `hyps` should be a string.\u001b[39m\u001b[38;5;124m\"\u001b[39m\n\u001b[1;32m    255\u001b[0m \u001b[38;5;28;01melif\u001b[39;00m \u001b[38;5;28many\u001b[39m(line \u001b[38;5;129;01mis\u001b[39;00m \u001b[38;5;28;01mNone\u001b[39;00m \u001b[38;5;28;01mfor\u001b[39;00m line \u001b[38;5;129;01min\u001b[39;00m hyps):\n",
      "\u001b[0;31mIndexError\u001b[0m: list index out of range"
     ]
    }
   ],
   "source": [
    "bleu = sacrebleu.corpus_bleu(predictions, [references])\n",
    "print(f\"\\n\\ud83d\\udcc8 BLEU Score: {bleu.score:.5f}\")"
   ]
  },
  {
   "cell_type": "code",
   "execution_count": null,
   "id": "fdd8fde0",
   "metadata": {},
   "outputs": [],
   "source": [
    "for i in range(5):\n",
    "    print(f\"\\nExample {i+1}:\")\n",
    "    print(f\"Reference English: {references[i]}\")\n",
    "    print(f\"Model Prediction: {predictions[i]}\")"
   ]
  }
 ],
 "metadata": {
  "kernelspec": {
   "display_name": "cs329e",
   "language": "python",
   "name": "python3"
  },
  "language_info": {
   "codemirror_mode": {
    "name": "ipython",
    "version": 3
   },
   "file_extension": ".py",
   "mimetype": "text/x-python",
   "name": "python",
   "nbconvert_exporter": "python",
   "pygments_lexer": "ipython3",
   "version": "3.10.9"
  }
 },
 "nbformat": 4,
 "nbformat_minor": 5
}
