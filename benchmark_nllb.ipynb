{
 "cells": [
  {
   "cell_type": "code",
   "execution_count": 1,
   "id": "8ed39216",
   "metadata": {},
   "outputs": [],
   "source": [
    "### Benchmark Fine-Tuned NLLB-200 Model for English-Chinese Translation using BLEU"
   ]
  },
  {
   "cell_type": "code",
   "execution_count": 2,
   "id": "a1180cfd",
   "metadata": {},
   "outputs": [
    {
     "name": "stderr",
     "output_type": "stream",
     "text": [
      "/home/kayleexie/miniconda3/envs/cs329e/lib/python3.10/site-packages/tqdm/auto.py:21: TqdmWarning: IProgress not found. Please update jupyter and ipywidgets. See https://ipywidgets.readthedocs.io/en/stable/user_install.html\n",
      "  from .autonotebook import tqdm as notebook_tqdm\n"
     ]
    }
   ],
   "source": [
    "import sacrebleu\n",
    "import ctranslate2\n",
    "from datasets import load_dataset\n",
    "from tqdm import tqdm\n",
    "\n",
    "import sys\n",
    "import os\n",
    "sys.path.append(os.getcwd())  # Adds current notebook's directory\n",
    "\n",
    "from text_to_text import translate_text"
   ]
  },
  {
   "cell_type": "code",
   "execution_count": 3,
   "id": "96e5fdaa",
   "metadata": {},
   "outputs": [],
   "source": [
    "dataset = load_dataset(\"opus100\", \"en-zh\")  # 1M+ sentence pairs"
   ]
  },
  {
   "cell_type": "code",
   "execution_count": 4,
   "id": "c4e4b665",
   "metadata": {},
   "outputs": [],
   "source": [
    "def prepare_batch(batch):\n",
    "    src_texts = batch['translation']['en']\n",
    "    tgt_texts = batch['translation']['zh']\n",
    "    preds = translate_text(src_texts, \"English\", \"Chinese (Simplified)\", beam_size=5)\n",
    "    return preds, tgt_texts"
   ]
  },
  {
   "cell_type": "code",
   "execution_count": 15,
   "id": "2a301ab4",
   "metadata": {},
   "outputs": [],
   "source": [
    "predictions = []\n",
    "references = []"
   ]
  },
  {
   "cell_type": "code",
   "execution_count": null,
   "id": "d0309db7",
   "metadata": {},
   "outputs": [
    {
     "name": "stderr",
     "output_type": "stream",
     "text": [
      "Translating:  50%|█████     | 1/2 [00:29<00:29, 29.14s/it]"
     ]
    },
    {
     "name": "stdout",
     "output_type": "stream",
     "text": [
      "全球行动计划协调办公室目前通过比利时的财政支持协助埃及,尼日利亚,坦桑尼亚联合共和国,斯里兰卡和也门制定试点国家行动方案,以保护海洋环境免受陆地活动的影响.\n",
      "<class 'str'>\n",
      "9. 《全球行动纲领》协调处得到比利时的财政支持，目前正帮助埃及、尼日利亚、坦桑尼亚联合共和国、斯里兰卡和也门制订试行的保护海洋环境免受陆地活动影响的国家行动方案。\n",
      "<class 'str'>\n"
     ]
    },
    {
     "name": "stderr",
     "output_type": "stream",
     "text": [
      "Translating: 100%|██████████| 2/2 [00:43<00:00, 21.72s/it]"
     ]
    },
    {
     "name": "stdout",
     "output_type": "stream",
     "text": [
      "该论坛在亚洲和非洲私人公司之间签订了超过2400万美元的商业合同.\n",
      "<class 'str'>\n",
      "该论坛达成的亚洲和非洲国家私营公司间的商业合同超过了2,400万美元。\n",
      "<class 'str'>\n"
     ]
    },
    {
     "name": "stderr",
     "output_type": "stream",
     "text": [
      "\n"
     ]
    }
   ],
   "source": [
    "for sample in tqdm(dataset[\"test\"].select(range(2)), desc=\"Translating\"):\n",
    "    pred, ref = prepare_batch(sample)\n",
    "    # print(pred)\n",
    "    # print(type(pred))\n",
    "    # print(ref)\n",
    "    # print(type(ref))\n",
    "    predictions.append(pred)\n",
    "    references.append(ref)  # Each reference must be a list of one or more refs"
   ]
  },
  {
   "cell_type": "code",
   "execution_count": null,
   "id": "434ea8e0",
   "metadata": {},
   "outputs": [
    {
     "name": "stdout",
     "output_type": "stream",
     "text": [
      "['全球行动计划协调办公室目前通过比利时的财政支持协助埃及,尼日利亚,坦桑尼亚联合共和国,斯里兰卡和也门制定试点国家行动方案,以保护海洋环境免受陆地活动的影响.', '该论坛在亚洲和非洲私人公司之间签订了超过2400万美元的商业合同.']\n"
     ]
    }
   ],
   "source": [
    "# print(predictions)"
   ]
  },
  {
   "cell_type": "code",
   "execution_count": null,
   "id": "3bad594f",
   "metadata": {},
   "outputs": [
    {
     "name": "stdout",
     "output_type": "stream",
     "text": [
      "['9. 《全球行动纲领》协调处得到比利时的财政支持，目前正帮助埃及、尼日利亚、坦桑尼亚联合共和国、斯里兰卡和也门制订试行的保护海洋环境免受陆地活动影响的国家行动方案。', '该论坛达成的亚洲和非洲国家私营公司间的商业合同超过了2,400万美元。']\n"
     ]
    }
   ],
   "source": [
    "# print(references)"
   ]
  },
  {
   "cell_type": "code",
   "execution_count": 19,
   "id": "2fb879a2",
   "metadata": {},
   "outputs": [
    {
     "name": "stdout",
     "output_type": "stream",
     "text": [
      "\n",
      "📈 BLEU Score: 3.90492\n"
     ]
    }
   ],
   "source": [
    "bleu = sacrebleu.corpus_bleu(predictions, [references])\n",
    "print(f\"\\n📈 BLEU Score: {bleu.score:.5f}\")"
   ]
  },
  {
   "cell_type": "code",
   "execution_count": null,
   "id": "029b59b8",
   "metadata": {},
   "outputs": [
    {
     "name": "stdout",
     "output_type": "stream",
     "text": [
      "\n",
      "Example 1:\n",
      "English Input: The Global Programme of Action Coordination Office, with the financial support of Belgium, is currently assisting Egypt, Nigeria, United Republic of Tanzania, Sri Lanka and Yemen to develop pilot national programmes of action for the protection of the marine environment from land-based activities.\n",
      "Reference Chinese: 9. 《全球行动纲领》协调处得到比利时的财政支持，目前正帮助埃及、尼日利亚、坦桑尼亚联合共和国、斯里兰卡和也门制订试行的保护海洋环境免受陆地活动影响的国家行动方案。\n",
      "Model Prediction: 全球行动计划协调办公室目前通过比利时的财政支持协助埃及,尼日利亚,坦桑尼亚联合共和国,斯里兰卡和也门制定试点国家行动方案,以保护海洋环境免受陆地活动的影响.\n",
      "\n",
      "Example 2:\n",
      "English Input: The forum produced business contracts amounting to more than $24 million between Asian and African private companies.\n",
      "Reference Chinese: 该论坛达成的亚洲和非洲国家私营公司间的商业合同超过了2,400万美元。\n",
      "Model Prediction: 该论坛在亚洲和非洲私人公司之间签订了超过2400万美元的商业合同.\n"
     ]
    }
   ],
   "source": [
    "for i in range(2):\n",
    "    print(f\"\\nExample {i+1}:\")\n",
    "    print(f\"English Input: {dataset['test'][i]['translation']['en']}\")\n",
    "    print(f\"Reference Chinese: {references[i]}\")\n",
    "    print(f\"Model Prediction: {predictions[i]}\")"
   ]
  }
 ],
 "metadata": {
  "kernelspec": {
   "display_name": "cs329e",
   "language": "python",
   "name": "python3"
  },
  "language_info": {
   "codemirror_mode": {
    "name": "ipython",
    "version": 3
   },
   "file_extension": ".py",
   "mimetype": "text/x-python",
   "name": "python",
   "nbconvert_exporter": "python",
   "pygments_lexer": "ipython3",
   "version": "3.10.9"
  }
 },
 "nbformat": 4,
 "nbformat_minor": 5
}
